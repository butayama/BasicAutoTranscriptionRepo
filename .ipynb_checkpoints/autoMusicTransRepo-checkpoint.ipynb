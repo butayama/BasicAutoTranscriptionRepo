{
 "cells": [
  {
   "cell_type": "markdown",
   "metadata": {},
   "source": [
    "# Basics of Pitch Estimation - Automatic Music Transcription \n",
    "Basics of Pitch Estimation and Automatic Music Transcription Using CQT\n",
    "\n",
    "<img src=\"./img/Slide16.JPG\" width=\"600\">\n",
    "\n",
    "<br>Renato Profeta<br>\n",
    "PhD Candidate at [TU Ilmenau](https://www.tu-ilmenau.de/en/applied-media-systems-group/)<br>\n",
    "GUITAR INFORMATION RETRIEVAL<br>\n",
    "https://www.facebook.com/GuitarsAI/<br>\n",
    "http://www.rptecnologias.com <br>\n",
    "https://www.instagram.com/guitars.ai/\n",
    "<br>\n",
    "[guitars.ai@rptecnologias.com](mailto:guitars.ai@rptecnologias.com)"
   ]
  },
  {
   "cell_type": "code",
   "execution_count": 1,
   "metadata": {
    "pycharm": {
     "is_executing": false
    }
   },
   "outputs": [],
   "source": [
    "#Imports\n",
    "\n",
    "## General Imports\n",
    "import numpy as np\n",
    "\n",
    "## Visualization\n",
    "import seaborn\n",
    "import matplotlib.pyplot as plt\n",
    "import IPython.display as ipd\n",
    "from ipywidgets import interactive_output #http://ipywidgets.readthedocs.io/en/latest/index.html\n",
    "from ipywidgets import IntSlider, FloatSlider, fixed, Checkbox\n",
    "from ipywidgets import VBox, Label\n",
    "\n",
    "\n",
    "## Audio Imports\n",
    "import librosa, librosa.display           #https://librosa.github.io/librosa/index.html\n",
    "from midiutil import MIDIFile             #http://midiutil.readthedocs.io/en/1.2.1/\n",
    "from music21.tempo import MetronomeMark   #http://web.mit.edu/music21/\n",
    "from music21.note import Note, Rest\n",
    "from music21.stream import Stream\n",
    "from music21 import metadata\n",
    "from music21 import instrument\n",
    "from music21 import midi \n",
    "from music21.key import Key\n"
   ]
  },
  {
   "cell_type": "code",
   "execution_count": 2,
   "metadata": {
    "pycharm": {
     "is_executing": false
    }
   },
   "outputs": [],
   "source": [
    "# Configurations\n",
    "\n",
    "## Path\n",
    "path = './audio/music/'\n",
    "\n",
    "#%matplotlib notebook\n",
    "\n",
    "## Matplotlib\n",
    "plt.rc(\"figure\", figsize=(16, 8))"
   ]
  },
  {
   "cell_type": "code",
   "execution_count": 3,
   "metadata": {
    "pycharm": {
     "is_executing": false
    }
   },
   "outputs": [],
   "source": [
    "# Parameters\n",
    "## Signal Processing \n",
    "fs = 44100                               # Sampling Frequency\n",
    "nfft = 2048                              # length of the FFT window\n",
    "overlap = 0.5                            # Hop overlap percentage\n",
    "hop_length = int(nfft*(1-overlap))       # Number of samples between successive frames\n",
    "n_bins = 72                              # Number of frequency bins\n",
    "mag_exp = 4                              # Magnitude Exponent\n",
    "pre_post_max = 6                         # Pre- and post- samples for peak picking\n",
    "cqt_threshold = -61                      # Threshold for CQT dB levels, all values below threshold are set to -120 dB"
   ]
  },
  {
   "cell_type": "code",
   "execution_count": null,
   "metadata": {},
   "outputs": [],
   "source": [
    "# Load Audio\n",
    "# Loadinging audio file\n",
    "filename = '%sGuns N Roses-Sweet Child O Mine Intro.wav'%path\n",
    "x, fs = librosa.load(filename, sr=None, mono=True, duration=12)\n",
    "# Audio data information\n",
    "print(\"x Shape=\", x.shape)\n",
    "print(\"Sample rate fs=\", fs)\n",
    "print(\"Audio Length in seconds=%d [s]\" % (x.shape[0]/fs))\n",
    "# Playback audio file\n",
    "ipd.Audio(x, rate=fs)"
   ]
  },
  {
   "cell_type": "code",
   "execution_count": null,
   "metadata": {},
   "outputs": [],
   "source": [
    "# CQT vs FFT\n",
    "\n",
    "# CQT Frequencies\n",
    "cqt_freqs = librosa.core.cqt_frequencies(n_bins=128, fmin=librosa.note_to_hz('C0'), bins_per_octave=12)\n",
    "\n",
    "# FFT Frequencies\n",
    "fft_freqs = librosa.fft_frequencies(sr=44100, n_fft=128)\n",
    "\n",
    "# Notes Center Frequencies\n",
    "notes_freqs = 440*2**(np.arange(-57, (128-57))/12)\n",
    "\n"
   ]
  },
  {
   "cell_type": "code",
   "execution_count": null,
   "metadata": {},
   "outputs": [],
   "source": [
    "# Plot CQT vs FFT\n",
    "plt.figure()\n",
    "plt.plot(cqt_freqs, 'bo', label='CQT')\n",
    "plt.plot(fft_freqs, 'rx', label= 'FFT')\n",
    "plt.plot(notes_freqs, 'g^', label = 'Notes')\n",
    "plt.title(\" CQT vs FFT\")\n",
    "plt.xlabel('Bin Number #')\n",
    "plt.ylabel('Frequency [Hz]')\n",
    "plt.legend();"
   ]
  },
  {
   "cell_type": "code",
   "execution_count": null,
   "metadata": {},
   "outputs": [],
   "source": [
    "# CQT\n",
    "## Function\n",
    "def calc_cqt(x,fs=fs,hop_length=hop_length, n_bins=n_bins, mag_exp=mag_exp):\n",
    "    C = librosa.cqt(x, sr=fs, hop_length=hop_length, fmin=None, n_bins=n_bins)\n",
    "    C_mag = librosa.magphase(C)[0]**mag_exp\n",
    "    CdB = librosa.core.amplitude_to_db(C_mag ,ref=np.max)\n",
    "    return CdB"
   ]
  },
  {
   "cell_type": "code",
   "execution_count": null,
   "metadata": {},
   "outputs": [],
   "source": [
    "# CQT Threshold\n",
    "def cqt_thresholded(cqt,thres=cqt_threshold):\n",
    "    new_cqt=np.copy(cqt)\n",
    "    new_cqt[new_cqt<thres]=-120\n",
    "    return new_cqt"
   ]
  },
  {
   "cell_type": "code",
   "execution_count": null,
   "metadata": {},
   "outputs": [],
   "source": [
    "# Onset Envelope from Cqt\n",
    "def calc_onset_env(cqt):\n",
    "    return librosa.onset.onset_strength(S=cqt, sr=fs, aggregate=np.mean, hop_length=hop_length)"
   ]
  },
  {
   "cell_type": "code",
   "execution_count": null,
   "metadata": {},
   "outputs": [],
   "source": [
    "# Onset from Onset Envelope\n",
    "def calc_onset(cqt, pre_post_max=pre_post_max, backtrack=True):\n",
    "    onset_env=calc_onset_env(cqt)\n",
    "    onset_frames = librosa.onset.onset_detect(onset_envelope=onset_env,\n",
    "                                           sr=fs, units='frames', \n",
    "                                           hop_length=hop_length, \n",
    "                                           backtrack=backtrack,\n",
    "                                           pre_max=pre_post_max,\n",
    "                                           post_max=pre_post_max)\n",
    "    onset_boundaries = np.concatenate([[0], onset_frames, [cqt.shape[1]]])\n",
    "    onset_times = librosa.frames_to_time(onset_boundaries, sr=fs, hop_length=hop_length)\n",
    "    return [onset_times, onset_boundaries, onset_env]"
   ]
  },
  {
   "cell_type": "code",
   "execution_count": null,
   "metadata": {},
   "outputs": [],
   "source": [
    "# Fine Tuning UI\n",
    "style = {'description_width': 'initial'}\n",
    "mag_exp_slider=IntSlider(value=mag_exp, min=1, max=32, step=1, \n",
    "                         description='mag_exp:',continuous_update=False)\n",
    "\n",
    "thres_slider=IntSlider(value=cqt_threshold, min=-120, max=0, step=1, \n",
    "                                                     description='Threshold:',continuous_update=False)\n",
    "\n",
    "pre_post_slider=IntSlider(value=pre_post_max, min=1, max=32, step=1, \n",
    "                         description='Pre_post_max:',continuous_update=False, style=style)\n",
    "\n",
    "backtrack_box=Checkbox(value=False,description='backtrack',disabled=False)\n",
    "\n",
    "\n",
    "def inter_cqt_tuning(mag_exp,thres,pre_post_max, backtrack):\n",
    "    thres=thres_slider.value\n",
    "    mag_exp=mag_exp_slider.value\n",
    "    pre_post_max=pre_post_slider.value\n",
    "    backtrack=backtrack_box.value\n",
    "    global CdB\n",
    "    CdB = calc_cqt(x,fs,hop_length, n_bins, mag_exp)\n",
    "    plt.figure()\n",
    "    new_cqt=cqt_thresholded(CdB,thres)\n",
    "    librosa.display.specshow(new_cqt, sr=fs, hop_length=hop_length, x_axis='time', y_axis='cqt_note', cmap='coolwarm')\n",
    "    plt.ylim([librosa.note_to_hz('B2'),librosa.note_to_hz('B6')])\n",
    "    global onsets\n",
    "    onsets=calc_onset(new_cqt,pre_post_max, backtrack)\n",
    "    plt.vlines(onsets[0], 0, fs/2, color='k', alpha=0.8)\n",
    "    plt.title(\"CQT - Sweet Child O' Mine Intro\")\n",
    "    plt.colorbar()\n",
    "    plt.show()\n",
    "    \n",
    "    "
   ]
  },
  {
   "cell_type": "code",
   "execution_count": null,
   "metadata": {},
   "outputs": [],
   "source": [
    "# Display UI\n",
    "out = interactive_output(inter_cqt_tuning,  {'mag_exp': mag_exp_slider, 'thres': thres_slider, \n",
    "                                             'pre_post_max': pre_post_slider, 'backtrack':backtrack_box})\n",
    "ui = VBox([mag_exp_slider, thres_slider, pre_post_slider, backtrack_box])\n",
    "display(ui, out)"
   ]
  },
  {
   "cell_type": "code",
   "execution_count": null,
   "metadata": {},
   "outputs": [],
   "source": [
    "# Estimate Tempo\n",
    "tempo, beats=librosa.beat.beat_track(y=None, sr=fs, onset_envelope=onsets[2], hop_length=hop_length,\n",
    "               start_bpm=120.0, tightness=100, trim=True, bpm=None,\n",
    "               units='frames')\n",
    "tempo=int(2*round(tempo/2))\n",
    "mm = MetronomeMark(referent='quarter', number=tempo)"
   ]
  },
  {
   "cell_type": "code",
   "execution_count": null,
   "metadata": {},
   "outputs": [],
   "source": [
    "# Convert Seconds to Quarter-Notes\n",
    "def time_to_beat(duration, tempo):\n",
    "    return (tempo*duration/60)"
   ]
  },
  {
   "cell_type": "code",
   "execution_count": null,
   "metadata": {},
   "outputs": [],
   "source": [
    "# Remap input to 0-1 for Sine Amplitude or to 0-127 for MIDI\n",
    "def remap(x, in_min, in_max, out_min, out_max):\n",
    "    return (x - in_min) * (out_max - out_min) / (in_max - in_min) + out_min"
   ]
  },
  {
   "cell_type": "code",
   "execution_count": null,
   "metadata": {},
   "outputs": [],
   "source": [
    "# Generate Sinewave, MIDI Notes and music21 notes\n",
    "def generate_sine_midi_note(f0_info, sr, n_duration, round_to_sixtenth=True):\n",
    "    f0=f0_info[0]\n",
    "    A=remap(f0_info[1], CdB.min(), CdB.max(), 0, 1)\n",
    "    duration = librosa.frames_to_time(n_duration, sr=fs, hop_length=hop_length)\n",
    "    #Generate Midi Note and music21 note\n",
    "    note_duration = 0.02*np.around(duration/2/0.02) # Round to 2 decimal places for music21 compatibility\n",
    "    midi_duration = time_to_beat(duration, tempo)\n",
    "    midi_velocity=int(round(remap(f0_info[1], CdB.min(), CdB.max(), 0, 127)))\n",
    "    if round_to_sixtenth:\n",
    "        midi_duration=round(midi_duration*16)/16\n",
    "    if f0==None:\n",
    "        midi_note=None\n",
    "        note_info=Rest(type=mm.secondsToDuration(note_duration).type)\n",
    "        f0=0\n",
    "    else:\n",
    "        midi_note=round(librosa.hz_to_midi(f0))\n",
    "        note = Note(librosa.midi_to_note(midi_note), type=mm.secondsToDuration(note_duration).type)\n",
    "        note.volume.velocity = midi_velocity\n",
    "        note_info = [note]\n",
    "    midi_info = [midi_note, midi_duration, midi_velocity]\n",
    "            \n",
    "    # Generate Sinewave\n",
    "    n = np.arange(librosa.frames_to_samples(n_duration, hop_length=hop_length ))\n",
    "    sine_wave = A*np.sin(2*np.pi*f0*n/float(sr))\n",
    "    return [sine_wave, midi_info, note_info]"
   ]
  },
  {
   "cell_type": "code",
   "execution_count": null,
   "metadata": {},
   "outputs": [],
   "source": [
    "#Estimate Pitch\n",
    "def estimate_pitch(segment, threshold):\n",
    "    freqs = librosa.cqt_frequencies(n_bins=n_bins, fmin=librosa.note_to_hz('C1'),\n",
    "                            bins_per_octave=12)\n",
    "    if segment.max()<threshold:\n",
    "        return [None, np.mean((np.amax(segment,axis=0)))]\n",
    "    else:\n",
    "        f0 = int(np.mean((np.argmax(segment,axis=0))))\n",
    "    return [freqs[f0], np.mean((np.amax(segment,axis=0)))]"
   ]
  },
  {
   "cell_type": "code",
   "execution_count": null,
   "metadata": {},
   "outputs": [],
   "source": [
    "# Generate notes from Pitch estimation\n",
    "def estimate_pitch_and_notes(x, onset_boundaries, i, sr):\n",
    "    n0 = onset_boundaries[i]\n",
    "    n1 = onset_boundaries[i+1]\n",
    "    f0_info = estimate_pitch(np.mean(x[:,n0:n1],axis=1),threshold=cqt_threshold)\n",
    "    return generate_sine_midi_note(f0_info, sr, n1-n0)"
   ]
  },
  {
   "cell_type": "code",
   "execution_count": null,
   "metadata": {},
   "outputs": [],
   "source": [
    "# Array of music information - Sinewave, MIDI Notes and muisc21 Notes\n",
    "music_info = np.array([\n",
    "    estimate_pitch_and_notes(CdB, onsets[1], i, sr=fs)\n",
    "    for i in range(len(onsets[1])-1)\n",
    "])"
   ]
  },
  {
   "cell_type": "code",
   "execution_count": null,
   "metadata": {},
   "outputs": [],
   "source": [
    "# Get sinewave \n",
    "synth_audio=np.concatenate(music_info[:,0])"
   ]
  },
  {
   "cell_type": "code",
   "execution_count": null,
   "metadata": {},
   "outputs": [],
   "source": [
    "# Play generatade sinewave\n",
    "ipd.Audio(synth_audio, rate=fs)"
   ]
  },
  {
   "cell_type": "code",
   "execution_count": null,
   "metadata": {},
   "outputs": [],
   "source": [
    "# Get muisc21 notes\n",
    "note_info = list(music_info[:,2])"
   ]
  },
  {
   "cell_type": "code",
   "execution_count": null,
   "metadata": {
    "scrolled": true
   },
   "outputs": [],
   "source": [
    "# Create music21 stream\n",
    "s = Stream()\n",
    "s.append(mm)\n",
    "electricguitar = instrument.fromString('electric guitar')\n",
    "electricguitar.midiChannel=0\n",
    "electricguitar.midiProgram=30  #Set program to Overdriven Guitar\n",
    "s.append(electricguitar)\n",
    "s.insert(0, metadata.Metadata())\n",
    "s.metadata.title = \"Sweet Child O' Mine - Introduction\"\n",
    "s.metadata.composer = \"Guns n' Roses\"\n",
    "for note in note_info:\n",
    "    s.append(note)"
   ]
  },
  {
   "cell_type": "code",
   "execution_count": null,
   "metadata": {},
   "outputs": [],
   "source": [
    "# Analyse music21 stream to get song Key\n",
    "key=s.analyze('key')\n",
    "print(key.name)\n",
    "# Insert Key to Stream\n",
    "s.insert(0, key)"
   ]
  },
  {
   "cell_type": "code",
   "execution_count": null,
   "metadata": {},
   "outputs": [],
   "source": [
    "# Display music21 stream\n",
    "# If you have Musescore installed and configured displays music score - https://musescore.org/en\n",
    "#s.show() # You must have Nusescore installed and Configured to run this and display the music score\n",
    "\n",
    "# Show stream as text\n",
    "s.show('text')"
   ]
  },
  {
   "cell_type": "code",
   "execution_count": null,
   "metadata": {},
   "outputs": [],
   "source": [
    "# Listen to music21 stream as MIDI\n",
    "s.show('midi') \n",
    "\n",
    "# Pygame play - Needs pygame to be installed\n",
    "#sp = midi.realtime.StreamPlayer(s)\n",
    "#sp.play()"
   ]
  },
  {
   "cell_type": "code",
   "execution_count": null,
   "metadata": {},
   "outputs": [],
   "source": [
    "# Save MIdi to file\n",
    "s.write('midi', 'sweet_child_music21.mid')\n",
    "\n",
    "# Another way for saving midi\n",
    "#mf = midi.translate.streamToMidiFile(s)\n",
    "#mf.open('sweet_child_mine'+'.mid', 'wb')\n",
    "#mf.write()\n",
    "#mf.close()\n"
   ]
  },
  {
   "cell_type": "code",
   "execution_count": null,
   "metadata": {},
   "outputs": [],
   "source": [
    "# If you have MuseScore installed, opens midi file in it\n",
    "#! \"D:\\ProgramFiles\\MuseScore2\\bin\\MuseScore.exe\" sweet_child_music21.mid"
   ]
  },
  {
   "cell_type": "code",
   "execution_count": null,
   "metadata": {},
   "outputs": [],
   "source": [
    "# Get MIDI Information\n",
    "midi_info = list(music_info[:,1])"
   ]
  },
  {
   "cell_type": "code",
   "execution_count": null,
   "metadata": {},
   "outputs": [],
   "source": [
    "# Save midi file from MIDI information using MIDIUtils - not using anything from music21, \n",
    "track    = 0\n",
    "channel  = 0\n",
    "tempo    = tempo  # In BPM\n",
    "volume   = 100  # 0-127, as per the MIDI standard\n",
    "\n",
    "gnr = MIDIFile(1)  # One track, defaults to format 1 (tempo track is created\n",
    "                      # automatically)\n",
    "gnr.addTrackName(0,0,\"Guns n' Roses - Sweet Child O' Mine - Intro\")\n",
    "program = 30 # Overdriven Guitar\n",
    "gnr.addProgramChange(track, channel, 0, program)\n",
    "gnr.addTempo(track, 0, tempo)\n",
    "\n",
    "note_time=0\n",
    "for i, note in enumerate(midi_info):\n",
    "    if note[0]==None:\n",
    "        note_time+=note[1]\n",
    "    else:\n",
    "        note_time+=note[1]\n",
    "        gnr.addNote(track, channel, note[0].astype('int'), note_time, note[1], note[2])\n",
    "\n",
    "with open(\"sweet_child_midiutils.mid\", \"wb\") as output_file:\n",
    "    gnr.writeFile(output_file)"
   ]
  },
  {
   "cell_type": "code",
   "execution_count": null,
   "metadata": {},
   "outputs": [],
   "source": [
    "#! \"D:\\ProgramFiles\\MuseScore2\\bin\\MuseScore.exe\" sweet_child_midiutils.mid"
   ]
  },
  {
   "cell_type": "code",
   "execution_count": null,
   "metadata": {},
   "outputs": [],
   "source": []
  }
 ],
 "metadata": {
  "kernelspec": {
   "name": "jupyter_env",
   "language": "python",
   "display_name": "jupyter_env"
  },
  "language_info": {
   "codemirror_mode": {
    "name": "ipython",
    "version": 3
   },
   "file_extension": ".py",
   "mimetype": "text/x-python",
   "name": "python",
   "nbconvert_exporter": "python",
   "pygments_lexer": "ipython3",
   "version": "3.5.4"
  },
  "widgets": {
   "application/vnd.jupyter.widget-state+json": {
    "state": {
     "01a405c7bf364ac0b731fdd8de3a6b51": {
      "model_module": "@jupyter-widgets/base",
      "model_module_version": "1.0.0",
      "model_name": "LayoutModel",
      "state": {}
     },
     "08214646d3984b6dabc5e6a3b0f7f2ca": {
      "model_module": "@jupyter-widgets/base",
      "model_module_version": "1.0.0",
      "model_name": "LayoutModel",
      "state": {}
     },
     "1d642c64fc414f2d881435c78893ed3d": {
      "model_module": "@jupyter-widgets/controls",
      "model_module_version": "1.2.0",
      "model_name": "CheckboxModel",
      "state": {
       "description": "backtrack",
       "disabled": false,
       "layout": "IPY_MODEL_08214646d3984b6dabc5e6a3b0f7f2ca",
       "style": "IPY_MODEL_28cc8c091dd54516a7107237a6423fd0",
       "value": false
      }
     },
     "28cc8c091dd54516a7107237a6423fd0": {
      "model_module": "@jupyter-widgets/controls",
      "model_module_version": "1.2.0",
      "model_name": "DescriptionStyleModel",
      "state": {
       "description_width": ""
      }
     },
     "2ce8ba1e520440f4acfc04ad96bf4d19": {
      "model_module": "@jupyter-widgets/controls",
      "model_module_version": "1.2.0",
      "model_name": "VBoxModel",
      "state": {
       "children": [
        "IPY_MODEL_ad54b1ac20274950ad975dd84db5b782",
        "IPY_MODEL_72f709bbcc774a53aba34de97b280607",
        "IPY_MODEL_93d644b84b194cfda18295d0953f113f",
        "IPY_MODEL_1d642c64fc414f2d881435c78893ed3d"
       ],
       "layout": "IPY_MODEL_39a278e7d3864a399ea1ee4d1ba47ba3"
      }
     },
     "2dc9a74a8292477795dbf3c6904b1c34": {
      "model_module": "@jupyter-widgets/base",
      "model_module_version": "1.0.0",
      "model_name": "LayoutModel",
      "state": {}
     },
     "39a278e7d3864a399ea1ee4d1ba47ba3": {
      "model_module": "@jupyter-widgets/base",
      "model_module_version": "1.0.0",
      "model_name": "LayoutModel",
      "state": {}
     },
     "3d7903577c234ea59caa5f069f0aea73": {
      "model_module": "@jupyter-widgets/output",
      "model_module_version": "1.0.0",
      "model_name": "OutputModel",
      "state": {
       "layout": "IPY_MODEL_2dc9a74a8292477795dbf3c6904b1c34",
       "outputs": [
        {
         "data": {
          "image/png": "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\n",
          "text/plain": "<matplotlib.figure.Figure at 0x262291a1898>"
         },
         "metadata": {
          "image/png": {
           "height": 494,
           "width": 871
          }
         },
         "output_type": "display_data"
        }
       ]
      }
     },
     "72df557bf48e46348499bcac95daa560": {
      "model_module": "@jupyter-widgets/controls",
      "model_module_version": "1.2.0",
      "model_name": "SliderStyleModel",
      "state": {
       "description_width": "initial"
      }
     },
     "72f709bbcc774a53aba34de97b280607": {
      "model_module": "@jupyter-widgets/controls",
      "model_module_version": "1.2.0",
      "model_name": "IntSliderModel",
      "state": {
       "continuous_update": false,
       "description": "Threshold:",
       "layout": "IPY_MODEL_01a405c7bf364ac0b731fdd8de3a6b51",
       "max": 0,
       "min": -120,
       "style": "IPY_MODEL_f1e528af5fff4892b0787dfa2d651acb",
       "value": -61
      }
     },
     "93d644b84b194cfda18295d0953f113f": {
      "model_module": "@jupyter-widgets/controls",
      "model_module_version": "1.2.0",
      "model_name": "IntSliderModel",
      "state": {
       "continuous_update": false,
       "description": "Pre_post_max:",
       "layout": "IPY_MODEL_b360533415bb4e2e9795fa0d0cdb89dd",
       "max": 32,
       "min": 1,
       "style": "IPY_MODEL_72df557bf48e46348499bcac95daa560",
       "value": 6
      }
     },
     "9a4d886af03c4ea595bfd6c356253d8a": {
      "model_module": "@jupyter-widgets/controls",
      "model_module_version": "1.2.0",
      "model_name": "SliderStyleModel",
      "state": {
       "description_width": ""
      }
     },
     "ad54b1ac20274950ad975dd84db5b782": {
      "model_module": "@jupyter-widgets/controls",
      "model_module_version": "1.2.0",
      "model_name": "IntSliderModel",
      "state": {
       "continuous_update": false,
       "description": "mag_exp:",
       "layout": "IPY_MODEL_e817b5923bdf47a6a24893ea12414649",
       "max": 32,
       "min": 1,
       "style": "IPY_MODEL_9a4d886af03c4ea595bfd6c356253d8a",
       "value": 4
      }
     },
     "b360533415bb4e2e9795fa0d0cdb89dd": {
      "model_module": "@jupyter-widgets/base",
      "model_module_version": "1.0.0",
      "model_name": "LayoutModel",
      "state": {}
     },
     "e817b5923bdf47a6a24893ea12414649": {
      "model_module": "@jupyter-widgets/base",
      "model_module_version": "1.0.0",
      "model_name": "LayoutModel",
      "state": {}
     },
     "f1e528af5fff4892b0787dfa2d651acb": {
      "model_module": "@jupyter-widgets/controls",
      "model_module_version": "1.2.0",
      "model_name": "SliderStyleModel",
      "state": {
       "description_width": ""
      }
     }
    },
    "version_major": 2,
    "version_minor": 0
   }
  }
 },
 "nbformat": 4,
 "nbformat_minor": 2
}